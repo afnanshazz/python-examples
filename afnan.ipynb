{
 "cells": [
  {
   "cell_type": "code",
   "execution_count": 1,
   "id": "e106fd52-c8b0-47e7-b690-627ad545fc49",
   "metadata": {},
   "outputs": [],
   "source": [
    "student={1:\"afnan\",2:\"ktpr\"}"
   ]
  },
  {
   "cell_type": "code",
   "execution_count": 2,
   "id": "264f44e8-1884-4f4d-9017-a87bd989a1db",
   "metadata": {},
   "outputs": [
    {
     "data": {
      "text/plain": [
       "{1: 'afnan', 2: 'ktpr'}"
      ]
     },
     "execution_count": 2,
     "metadata": {},
     "output_type": "execute_result"
    }
   ],
   "source": [
    "student"
   ]
  },
  {
   "cell_type": "code",
   "execution_count": 3,
   "id": "da012eaf-34b3-40f0-99fd-16fab1518e3f",
   "metadata": {},
   "outputs": [
    {
     "data": {
      "text/plain": [
       "dict"
      ]
     },
     "execution_count": 3,
     "metadata": {},
     "output_type": "execute_result"
    }
   ],
   "source": [
    "type(student)"
   ]
  },
  {
   "cell_type": "code",
   "execution_count": 4,
   "id": "d8f0befa-f6e4-419e-abe7-e3d9091e8711",
   "metadata": {},
   "outputs": [
    {
     "data": {
      "text/plain": [
       "1785935430592"
      ]
     },
     "execution_count": 4,
     "metadata": {},
     "output_type": "execute_result"
    }
   ],
   "source": [
    "id(student)"
   ]
  },
  {
   "cell_type": "code",
   "execution_count": 7,
   "id": "7130d877-4008-424e-bd40-1270c524cdca",
   "metadata": {},
   "outputs": [
    {
     "data": {
      "text/plain": [
       "['__class__',\n",
       " '__class_getitem__',\n",
       " '__contains__',\n",
       " '__delattr__',\n",
       " '__delitem__',\n",
       " '__dir__',\n",
       " '__doc__',\n",
       " '__eq__',\n",
       " '__format__',\n",
       " '__ge__',\n",
       " '__getattribute__',\n",
       " '__getitem__',\n",
       " '__getstate__',\n",
       " '__gt__',\n",
       " '__hash__',\n",
       " '__init__',\n",
       " '__init_subclass__',\n",
       " '__ior__',\n",
       " '__iter__',\n",
       " '__le__',\n",
       " '__len__',\n",
       " '__lt__',\n",
       " '__ne__',\n",
       " '__new__',\n",
       " '__or__',\n",
       " '__reduce__',\n",
       " '__reduce_ex__',\n",
       " '__repr__',\n",
       " '__reversed__',\n",
       " '__ror__',\n",
       " '__setattr__',\n",
       " '__setitem__',\n",
       " '__sizeof__',\n",
       " '__str__',\n",
       " '__subclasshook__',\n",
       " 'clear',\n",
       " 'copy',\n",
       " 'fromkeys',\n",
       " 'get',\n",
       " 'items',\n",
       " 'keys',\n",
       " 'pop',\n",
       " 'popitem',\n",
       " 'setdefault',\n",
       " 'update',\n",
       " 'values']"
      ]
     },
     "execution_count": 7,
     "metadata": {},
     "output_type": "execute_result"
    }
   ],
   "source": [
    "dir(student)"
   ]
  },
  {
   "cell_type": "code",
   "execution_count": 9,
   "id": "cf152963-38c2-4652-8f07-daa46086634c",
   "metadata": {},
   "outputs": [
    {
     "data": {
      "text/plain": [
       "'afnan'"
      ]
     },
     "execution_count": 9,
     "metadata": {},
     "output_type": "execute_result"
    }
   ],
   "source": [
    "student[1]"
   ]
  },
  {
   "cell_type": "code",
   "execution_count": 12,
   "id": "77c0d8a5-78f8-4f40-b5df-37b8a2a05d52",
   "metadata": {},
   "outputs": [
    {
     "data": {
      "text/plain": [
       "'ktpr'"
      ]
     },
     "execution_count": 12,
     "metadata": {},
     "output_type": "execute_result"
    }
   ],
   "source": [
    "student[2]"
   ]
  },
  {
   "cell_type": "code",
   "execution_count": 14,
   "id": "cd90d417-7c05-4125-a7fa-5f99c27a2fe3",
   "metadata": {},
   "outputs": [],
   "source": [
    "students={'name':\"afnan\",'dob':\"15/7/22\",'address':\"ktpr\"}"
   ]
  },
  {
   "cell_type": "code",
   "execution_count": 15,
   "id": "47a0d216-2257-4315-b273-4497c4acfa8b",
   "metadata": {},
   "outputs": [
    {
     "data": {
      "text/plain": [
       "{'name': 'afnan', 'dob': '15/7/22', 'address': 'ktpr'}"
      ]
     },
     "execution_count": 15,
     "metadata": {},
     "output_type": "execute_result"
    }
   ],
   "source": [
    "students"
   ]
  },
  {
   "cell_type": "code",
   "execution_count": 16,
   "id": "d6786552-81cf-4978-a073-c0f1ca5346fa",
   "metadata": {},
   "outputs": [
    {
     "data": {
      "text/plain": [
       "dict"
      ]
     },
     "execution_count": 16,
     "metadata": {},
     "output_type": "execute_result"
    }
   ],
   "source": [
    "type(students)"
   ]
  },
  {
   "cell_type": "code",
   "execution_count": 21,
   "id": "5ff09953-d70a-4512-ab9b-57cc1d9b475c",
   "metadata": {},
   "outputs": [
    {
     "data": {
      "text/plain": [
       "['__class__',\n",
       " '__class_getitem__',\n",
       " '__contains__',\n",
       " '__delattr__',\n",
       " '__delitem__',\n",
       " '__dir__',\n",
       " '__doc__',\n",
       " '__eq__',\n",
       " '__format__',\n",
       " '__ge__',\n",
       " '__getattribute__',\n",
       " '__getitem__',\n",
       " '__getstate__',\n",
       " '__gt__',\n",
       " '__hash__',\n",
       " '__init__',\n",
       " '__init_subclass__',\n",
       " '__ior__',\n",
       " '__iter__',\n",
       " '__le__',\n",
       " '__len__',\n",
       " '__lt__',\n",
       " '__ne__',\n",
       " '__new__',\n",
       " '__or__',\n",
       " '__reduce__',\n",
       " '__reduce_ex__',\n",
       " '__repr__',\n",
       " '__reversed__',\n",
       " '__ror__',\n",
       " '__setattr__',\n",
       " '__setitem__',\n",
       " '__sizeof__',\n",
       " '__str__',\n",
       " '__subclasshook__',\n",
       " 'clear',\n",
       " 'copy',\n",
       " 'fromkeys',\n",
       " 'get',\n",
       " 'items',\n",
       " 'keys',\n",
       " 'pop',\n",
       " 'popitem',\n",
       " 'setdefault',\n",
       " 'update',\n",
       " 'values']"
      ]
     },
     "execution_count": 21,
     "metadata": {},
     "output_type": "execute_result"
    }
   ],
   "source": [
    "dir(students)"
   ]
  },
  {
   "cell_type": "code",
   "execution_count": 22,
   "id": "340bbc4e-fb7f-4bc7-a638-90947936ed3d",
   "metadata": {},
   "outputs": [
    {
     "data": {
      "text/plain": [
       "'afnan'"
      ]
     },
     "execution_count": 22,
     "metadata": {},
     "output_type": "execute_result"
    }
   ],
   "source": [
    "students['name']"
   ]
  },
  {
   "cell_type": "code",
   "execution_count": 23,
   "id": "943bb823-b0a3-4586-8590-d3ae88e02fc6",
   "metadata": {},
   "outputs": [
    {
     "data": {
      "text/plain": [
       "'15/7/22'"
      ]
     },
     "execution_count": 23,
     "metadata": {},
     "output_type": "execute_result"
    }
   ],
   "source": [
    "students[\"dob\"]"
   ]
  },
  {
   "cell_type": "code",
   "execution_count": 24,
   "id": "ebcc0127-27d6-4dfb-bd89-3fcbd07a5964",
   "metadata": {},
   "outputs": [
    {
     "data": {
      "text/plain": [
       "'ktpr'"
      ]
     },
     "execution_count": 24,
     "metadata": {},
     "output_type": "execute_result"
    }
   ],
   "source": [
    "students[\"address\"]"
   ]
  },
  {
   "cell_type": "code",
   "execution_count": 25,
   "id": "d8225d1a-1d77-4c09-9844-88e4e2d8b250",
   "metadata": {},
   "outputs": [
    {
     "data": {
      "text/plain": [
       "dict_keys(['name', 'dob', 'address'])"
      ]
     },
     "execution_count": 25,
     "metadata": {},
     "output_type": "execute_result"
    }
   ],
   "source": [
    "students.keys()"
   ]
  },
  {
   "cell_type": "code",
   "execution_count": 26,
   "id": "65c95f21-82f7-465c-ae79-b88b70eb67a8",
   "metadata": {},
   "outputs": [
    {
     "data": {
      "text/plain": [
       "dict_items([('name', 'afnan'), ('dob', '15/7/22'), ('address', 'ktpr')])"
      ]
     },
     "execution_count": 26,
     "metadata": {},
     "output_type": "execute_result"
    }
   ],
   "source": [
    "students.items()"
   ]
  },
  {
   "cell_type": "code",
   "execution_count": 28,
   "id": "0abeee4f-062c-4dc6-84bb-31d837c78343",
   "metadata": {},
   "outputs": [
    {
     "data": {
      "text/plain": [
       "dict_values(['afnan', '15/7/22', 'ktpr'])"
      ]
     },
     "execution_count": 28,
     "metadata": {},
     "output_type": "execute_result"
    }
   ],
   "source": [
    "students.values()"
   ]
  },
  {
   "cell_type": "code",
   "execution_count": 32,
   "id": "1be6236b-4eb3-43f5-ad7a-cf8e76ec7c2b",
   "metadata": {},
   "outputs": [],
   "source": [
    "students[\"age\"]=30"
   ]
  },
  {
   "cell_type": "code",
   "execution_count": 33,
   "id": "3c83a51a-002d-4839-8bf4-18b191c53351",
   "metadata": {},
   "outputs": [
    {
     "data": {
      "text/plain": [
       "{'name': 'afnan', 'dob': '15/7/22', 'address': 'ktpr', 'age': 30}"
      ]
     },
     "execution_count": 33,
     "metadata": {},
     "output_type": "execute_result"
    }
   ],
   "source": [
    "students"
   ]
  },
  {
   "cell_type": "code",
   "execution_count": 34,
   "id": "be349b49-60d3-45e3-9195-8ed36ae6531e",
   "metadata": {},
   "outputs": [],
   "source": [
    "students[\"name\"]=\"sooraj\""
   ]
  },
  {
   "cell_type": "code",
   "execution_count": 35,
   "id": "e6bc7def-b7f9-4c64-8577-33f669048ea4",
   "metadata": {},
   "outputs": [
    {
     "data": {
      "text/plain": [
       "{'name': 'sooraj', 'dob': '15/7/22', 'address': 'ktpr', 'age': 30}"
      ]
     },
     "execution_count": 35,
     "metadata": {},
     "output_type": "execute_result"
    }
   ],
   "source": [
    "students"
   ]
  },
  {
   "cell_type": "code",
   "execution_count": 36,
   "id": "7713b68d-a0e6-484f-9be7-b392edfccd9b",
   "metadata": {},
   "outputs": [
    {
     "data": {
      "text/plain": [
       "'ktpr'"
      ]
     },
     "execution_count": 36,
     "metadata": {},
     "output_type": "execute_result"
    }
   ],
   "source": [
    "students.get(\"address\")"
   ]
  },
  {
   "cell_type": "code",
   "execution_count": 37,
   "id": "3bfcfcae-ff2e-4225-86d8-0e8078dd395e",
   "metadata": {},
   "outputs": [],
   "source": [
    "students.update({\"name\":\"richu\",\"age\":\"100\"})"
   ]
  },
  {
   "cell_type": "code",
   "execution_count": 38,
   "id": "1c950da4-907c-44bd-9c19-44516d1aeac5",
   "metadata": {},
   "outputs": [
    {
     "data": {
      "text/plain": [
       "{'name': 'richu', 'dob': '15/7/22', 'address': 'ktpr', 'age': '100'}"
      ]
     },
     "execution_count": 38,
     "metadata": {},
     "output_type": "execute_result"
    }
   ],
   "source": [
    "students"
   ]
  },
  {
   "cell_type": "code",
   "execution_count": null,
   "id": "3e54b446-f563-40d0-bb9e-d951dc1f9976",
   "metadata": {},
   "outputs": [],
   "source": []
  }
 ],
 "metadata": {
  "kernelspec": {
   "display_name": "Python 3 (ipykernel)",
   "language": "python",
   "name": "python3"
  },
  "language_info": {
   "codemirror_mode": {
    "name": "ipython",
    "version": 3
   },
   "file_extension": ".py",
   "mimetype": "text/x-python",
   "name": "python",
   "nbconvert_exporter": "python",
   "pygments_lexer": "ipython3",
   "version": "3.11.7"
  }
 },
 "nbformat": 4,
 "nbformat_minor": 5
}
